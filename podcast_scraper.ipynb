{
 "cells": [
  {
   "cell_type": "code",
   "execution_count": 11,
   "metadata": {},
   "outputs": [],
   "source": [
    "import requests\n",
    "from bs4 import BeautifulSoup\n",
    "import speech_recognition as sr\n",
    "from pydub import AudioSegment\n",
    "from pydub.silence import split_on_silence\n",
    "import os\n",
    "\n",
    "rss_feed_url = \"https://api.vistopia.com.cn/rss/program/11.xml\""
   ]
  },
  {
   "cell_type": "code",
   "execution_count": 2,
   "metadata": {},
   "outputs": [],
   "source": [
    "page = requests.get(rss_feed_url)\n",
    "soup = BeautifulSoup(page.content, 'xml')\n",
    "podcast_items = soup.find_all('item')"
   ]
  },
  {
   "cell_type": "code",
   "execution_count": 3,
   "metadata": {},
   "outputs": [],
   "source": [
    "headers = {'User-Agent': 'Mozilla/5.0 (Windows NT 10.0; Win64; x64) AppleWebKit/537.36 (KHTML, like Gecko) Chrome/91.0.4472.124 Safari/537.36'}\n",
    "save_path = \"./downloads\"\n",
    "\n",
    "if not os.path.exists(save_path):\n",
    "    os.makedirs(save_path)\n",
    "\n",
    "count = 0\n",
    "for podcast in podcast_items:\n",
    "    if count == 0:\n",
    "        break\n",
    "    \n",
    "    title = podcast.find('title').text\n",
    "    url = podcast.find('enclosure')['url']\n",
    "    audio_file = requests.get(url, headers=headers)\n",
    "    file_path = f\"{save_path}/{count}.mp3\"\n",
    "\n",
    "    with open(file_path, 'wb') as mp3_file:\n",
    "        mp3_file.write(audio_file.content)\n",
    "\n",
    "    count +=1"
   ]
  },
  {
   "cell_type": "code",
   "execution_count": 14,
   "metadata": {},
   "outputs": [
    {
     "data": {
      "text/plain": [
       "<_io.BufferedRandom name='./downloads/speak.wav'>"
      ]
     },
     "execution_count": 14,
     "metadata": {},
     "output_type": "execute_result"
    }
   ],
   "source": [
    "mp3_file_path = \"./downloads/speak.mp3\"\n",
    "wav_file_path = \"./downloads/speak.wav\"\n",
    "\n",
    "# Convert MP3 to WAV\n",
    "audio = AudioSegment.from_file(mp3_file_path)\n",
    "audio.export(wav_file_path, format=\"wav\")"
   ]
  },
  {
   "cell_type": "code",
   "execution_count": 16,
   "metadata": {},
   "outputs": [
    {
     "name": "stdout",
     "output_type": "stream",
     "text": [
      "apologize to the simultaneous translators because I have no idea how you would translate this into Japanese so one of the things we've talked a lot about over the last few kernel releases is the introduction of rust into the colonel and I think it has been relatively steady and quiet what's your perception well as the rest still is at the point where we don't we have the initial infrastructure that merged last year it's been growing but we don't have any part of the carnal that really depends on us yet to me rust was one of those things that Aid made technical sense but to me personally even more important was that we need to not stagnate as a colonel and as developers and so I am always excited by trying something new and not getting too comfortable doing the same thing I mean I've been working on on the colonel now for 32 years 32 years and that's a long time to work on one single thing but it's still interesting because it's not the same single thing I mean Linux 32 years ago was very different from what Linux today and and I actually often look for things where where we can do new things and we can do things differently because it's so easy to get stuck in a rut and say this is working just fine right and and rust has not really shown itself as the next great big thing but I think next year will actually be starting to integrate drivers on some even majors of systems that are starting to actively use it so it's one of those things it's going to take years before it's a big part of the carnivals so you're riding rust code yourself kind of judgment calls on when something is too horrendous to be included in the but I have to admit now I mean the colonel we rely on literally thousands of people every single really we have 1,000 people involved and they're not the same thousand people quite often we have people in fact for the longest time we've had this Statistics be roughly about half the people involved and just one patch and a lot of them never show up again they may have something small they wanted to fix the day care about and they were not really Colonel people they found it for some other reason and they sent their small patch to the colonel and they were never interested in doing anything more but then the other half keeps coming back and and when it comes to us I'm not going to be the one who manages the restroom because that's not my expertise I'm honestly unless of a programmer these days than I am I call myself a technical lead because I'm not I'm not a manager I don't manage code so I call myself a technical lead I'm not I'm not my day-to-day work is not programming it is other people's codes will be one of those things\n"
     ]
    }
   ],
   "source": [
    "r = sr.Recognizer()\n",
    "\n",
    "chunk_duration=60\n",
    "audio = sr.AudioFile(wav_file_path)\n",
    "\n",
    "with audio as source:\n",
    "    total_duration = source.DURATION\n",
    "    current_time = 0\n",
    "\n",
    "    audio_text = r.record(source)\n",
    "    text = r.recognize_google(audio_text)\n",
    "    print(text)\n",
    "\n"
   ]
  }
 ],
 "metadata": {
  "kernelspec": {
   "display_name": "venv",
   "language": "python",
   "name": "python3"
  },
  "language_info": {
   "codemirror_mode": {
    "name": "ipython",
    "version": 3
   },
   "file_extension": ".py",
   "mimetype": "text/x-python",
   "name": "python",
   "nbconvert_exporter": "python",
   "pygments_lexer": "ipython3",
   "version": "3.11.3"
  }
 },
 "nbformat": 4,
 "nbformat_minor": 2
}
