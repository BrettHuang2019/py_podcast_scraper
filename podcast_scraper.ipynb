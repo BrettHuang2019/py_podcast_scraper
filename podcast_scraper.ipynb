{
 "cells": [
  {
   "cell_type": "code",
   "execution_count": 2,
   "metadata": {},
   "outputs": [],
   "source": [
    "import requests\n",
    "from bs4 import BeautifulSoup\n",
    "import os\n",
    "\n",
    "rss_feed_url = \"https://api.vistopia.com.cn/rss/program/11.xml\""
   ]
  },
  {
   "cell_type": "code",
   "execution_count": 3,
   "metadata": {},
   "outputs": [],
   "source": [
    "page = requests.get(rss_feed_url)\n",
    "soup = BeautifulSoup(page.content, 'xml')\n",
    "podcast_items = soup.find_all('item')"
   ]
  },
  {
   "cell_type": "code",
   "execution_count": null,
   "metadata": {},
   "outputs": [],
   "source": [
    "headers = {'User-Agent': 'Mozilla/5.0 (Windows NT 10.0; Win64; x64) AppleWebKit/537.36 (KHTML, like Gecko) Chrome/91.0.4472.124 Safari/537.36'}\n",
    "save_path = \"./downloads\"\n",
    "\n",
    "if not os.path.exists(save_path):\n",
    "    os.makedirs(save_path)\n",
    "\n",
    "# start_index will include, end_index will not include\n",
    "start_index = 129\n",
    "end_index = 220\n",
    "count = start_index\n",
    "for podcast in podcast_items[start_index:end_index]:\n",
    "    title = podcast.find('title').text\n",
    "    url = podcast.find('enclosure')['url']\n",
    "    audio_file = requests.get(url, headers=headers)\n",
    "    file_path = f\"{save_path}/{count}.mp3\"\n",
    "\n",
    "    with open(file_path, 'wb') as mp3_file:\n",
    "        mp3_file.write(audio_file.content)\n",
    "\n",
    "    count +=1"
   ]
  }
 ],
 "metadata": {
  "kernelspec": {
   "display_name": "venv",
   "language": "python",
   "name": "python3"
  },
  "language_info": {
   "codemirror_mode": {
    "name": "ipython",
    "version": 3
   },
   "file_extension": ".py",
   "mimetype": "text/x-python",
   "name": "python",
   "nbconvert_exporter": "python",
   "pygments_lexer": "ipython3",
   "version": "3.11.3"
  }
 },
 "nbformat": 4,
 "nbformat_minor": 2
}
