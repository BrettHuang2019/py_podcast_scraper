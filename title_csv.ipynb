{
 "cells": [
  {
   "cell_type": "code",
   "execution_count": 1,
   "metadata": {},
   "outputs": [],
   "source": [
    "import requests\n",
    "from bs4 import BeautifulSoup\n",
    "import csv\n",
    "\n",
    "rss_feed_url = \"https://api.vistopia.com.cn/rss/program/11.xml\""
   ]
  },
  {
   "cell_type": "code",
   "execution_count": 2,
   "metadata": {},
   "outputs": [],
   "source": [
    "page = requests.get(rss_feed_url)\n",
    "soup = BeautifulSoup(page.content, 'xml')\n",
    "podcast_items = soup.find_all('item')"
   ]
  },
  {
   "cell_type": "code",
   "execution_count": 3,
   "metadata": {},
   "outputs": [
    {
     "name": "stdout",
     "output_type": "stream",
     "text": [
      "CSV file saved at: index_and_titles.csv\n"
     ]
    }
   ],
   "source": [
    "count = 0\n",
    "csv_file_path = \"index_and_titles.csv\"\n",
    "\n",
    "with open(csv_file_path, 'w', newline='', encoding='utf-8') as csv_file:\n",
    "    csv_writer = csv.writer(csv_file)\n",
    "    csv_writer.writerow(['Index', 'Title'])  # Write the header\n",
    "\n",
    "    for podcast in podcast_items:\n",
    "        title = podcast.find('title').text\n",
    "        csv_writer.writerow([count, title])\n",
    "        count += 1\n",
    "\n",
    "print(f\"CSV file saved at: {csv_file_path}\")"
   ]
  }
 ],
 "metadata": {
  "kernelspec": {
   "display_name": "venv",
   "language": "python",
   "name": "python3"
  },
  "language_info": {
   "codemirror_mode": {
    "name": "ipython",
    "version": 3
   },
   "file_extension": ".py",
   "mimetype": "text/x-python",
   "name": "python",
   "nbconvert_exporter": "python",
   "pygments_lexer": "ipython3",
   "version": "3.11.3"
  }
 },
 "nbformat": 4,
 "nbformat_minor": 2
}
